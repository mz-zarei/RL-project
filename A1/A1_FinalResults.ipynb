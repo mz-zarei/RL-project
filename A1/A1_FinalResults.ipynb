{
  "cells": [
    {
      "cell_type": "markdown",
      "metadata": {
        "id": "view-in-github",
        "colab_type": "text"
      },
      "source": [
        "<a href=\"https://colab.research.google.com/github/mz-zarei/RL_project/blob/main/A1/A1_FinalResults.ipynb\" target=\"_parent\"><img src=\"https://colab.research.google.com/assets/colab-badge.svg\" alt=\"Open In Colab\"/></a>"
      ]
    },
    {
      "cell_type": "code",
      "source": [
        "# Unzipping the submitted ZIP file including all code/test files\n",
        "!unzip \"/content/A1.zip\""
      ],
      "metadata": {
        "id": "ZRvvlNGblTCB"
      },
      "execution_count": null,
      "outputs": []
    },
    {
      "cell_type": "code",
      "execution_count": null,
      "metadata": {
        "id": "C_b0m2YFmF4f"
      },
      "outputs": [],
      "source": [
        "import numpy as np\n",
        "import sys, importlib\n",
        "import matplotlib.pyplot as plt\n",
        "import MDP\n",
        "import RL"
      ]
    },
    {
      "cell_type": "markdown",
      "metadata": {
        "id": "B73FGE0xvlJu"
      },
      "source": [
        "# **Part (I) - final results**\n",
        "\n"
      ]
    },
    {
      "cell_type": "markdown",
      "source": [
        "- *Report the policy, value function and number of iterations needed by value iteration when using a tolerance of 0.01 and starting from a value function set to 0 for all states. [1 point]*\n",
        "\n",
        "    **Answer: Refer to following cell**\n",
        "- *Report the policy, value function and number of iterations needed by policy iteration to find an optimal policy when starting from the policy that chooses action 0 in all states. [1 point]*\n",
        "    \n",
        "    **Answer: Refer to following cell**\n",
        "- *Report the number of iterations needed by modified policy iteration to converge when varying the number of iterations in partial policy evaluation from 1 to 10. Use a tolerance of 0.01, start with the policy that chooses action 0 in all states and start with the value function that assigns 0 to all states. [1 point]*\n",
        "    \n",
        "    **Answer: Refer to following cell**\n",
        "\n",
        "\n",
        "- *Discuss the impact of the number of iterations in partial policy evaluation on the results and relate the results to value iteration and policy iteration.* \n",
        "    \n",
        "    > **Answer: The total number of iterations required for policy improvement (the number of iterations in the main loop of Modified Policy Iteration) decreases as the number of iterations in partial policy evaluation increases. Larger number of iterations in partial policy evaluation allows us to get more accurate estimate Value Function in accordance with a policy which lead to faster convergance. Because we modify the policy during the process, the number of entire iterations required in Modified Policy Iteration is fewer than the number of iterations required in Value Iteration and because we approximate the value function rather than computing it completely, the number of full iterations in Modified Policy Iteration is more than the number of iterations required in the Policy Iteration method. The number of total iterations in Modified Policy Iteration alternates between 7 to 12 which is a range between the number of iterations required in the Value Iteration method and in the Policy Iteration algorithm.**\n",
        "\n"
      ],
      "metadata": {
        "id": "sHYoVh2EWvLm"
      }
    },
    {
      "cell_type": "code",
      "execution_count": null,
      "metadata": {
        "colab": {
          "base_uri": "https://localhost:8080/"
        },
        "id": "kGjM9OZNmF4o",
        "outputId": "8da3ba7b-8814-4bee-e53b-90d5bc2678a8",
        "scrolled": true
      },
      "outputs": [
        {
          "name": "stdout",
          "output_type": "stream",
          "text": [
            "\n",
            "======== Value Iteration ========\n",
            " Policy: [3 3 1 1 1 3 1 1 1 1 1 2 3 3 0 0 0],\n",
            " V: [ 57.40981959  62.35501737  67.77963975  64.96284383  58.62088109\n",
            "  62.31802989  74.58594186  70.20153227  63.3314941    7.47046958\n",
            "  82.89054368  75.58836359  75.79654065  83.65711283 100.\n",
            "  72.869372     0.        ],\n",
            " Iterations: 21,\n",
            " epsilon: 0.004895425288879096\n",
            "\n",
            "======== Policy Iteration ========\n",
            " Policy: [3 3 1 1 1 3 1 1 1 1 1 2 3 3 0 0 0],\n",
            " V: [ 57.41579164  62.35823345  67.78138742  64.96471086  58.62141068\n",
            "  62.31944032  74.58645751  70.2024099   63.33161821   7.47053089\n",
            "  82.89063387  75.58877302  75.79659742  83.65712755 100.\n",
            "  72.87012982   0.        ],\n",
            " Iterations: 5\n",
            "\n",
            "======== Modified Policy Iteration ========\n",
            "The results for 1 number of iterations in partial policy evaluation:\n",
            " Iterations: 12,\n",
            " epsilon: 0.00318460692477629\n",
            "The results for 2 number of iterations in partial policy evaluation:\n",
            " Iterations: 9,\n",
            " epsilon: 0.0061133290134520735\n",
            "The results for 3 number of iterations in partial policy evaluation:\n",
            " Iterations: 8,\n",
            " epsilon: 0.0029744283710400055\n",
            "The results for 4 number of iterations in partial policy evaluation:\n",
            " Iterations: 7,\n",
            " epsilon: 0.006051140684142808\n",
            "The results for 5 number of iterations in partial policy evaluation:\n",
            " Iterations: 7,\n",
            " epsilon: 0.0007460867789390591\n",
            "The results for 6 number of iterations in partial policy evaluation:\n",
            " Iterations: 7,\n",
            " epsilon: 0.00013463494767051998\n",
            "The results for 7 number of iterations in partial policy evaluation:\n",
            " Iterations: 7,\n",
            " epsilon: 2.096734981194004e-05\n",
            "The results for 8 number of iterations in partial policy evaluation:\n",
            " Iterations: 7,\n",
            " epsilon: 3.544339115535422e-06\n",
            "The results for 9 number of iterations in partial policy evaluation:\n",
            " Iterations: 7,\n",
            " epsilon: 6.422564524655172e-07\n",
            "The results for 10 number of iterations in partial policy evaluation:\n",
            " Iterations: 7,\n",
            " epsilon: 1.2853321607053658e-07\n"
          ]
        }
      ],
      "source": [
        "%run -i 'TestMDPmaze.py'"
      ]
    },
    {
      "cell_type": "markdown",
      "metadata": {
        "id": "xW9CLs713IGC"
      },
      "source": [
        "# **Part (II) - final results**\n"
      ]
    },
    {
      "cell_type": "markdown",
      "source": [
        "- *Test your code with the maze problem described in TestRLmaze.py (same maze problem as in Part I) [1 point].* \n",
        "\n",
        "    **Answer: Refer to following cell**\n",
        "- *Produce a graph where the x-axis indicates the episode # (from 0 to 200) and the y-axis indicates the average (based on 100 trials) of the cumulative discounted rewards per episode (100 steps). The graph should contain 4 curves corresponding to the exploration probability epsilon=0.05, 0.1, 0.3 and 0.5 [1 point].*\n",
        "\n",
        "    **Answer: Refer to following cell**\n",
        "\n",
        "- *The initial state is 0 and the initial Q-function is 0 for all state-action pairs. Explain the impact of the exploration probability epsilon on the cumulative discounted rewards per episode earned during training as well as the resulting Q-values and policy. [1 point]*\n",
        "\n",
        "    > **Answer: Based on the following results it can be seens that epsilon values of 0.05 and 0.1 have almost same performance and get to highest rewards, while larger epsilon values (which leads to more exploration) converge to lower rewards. Exploration is important because there might be some actions with lower immediate values that lead to a series of states with much higher values. These actions won't be selected in pure explitation (i.e. greedy policy) which means the total reward can't converge to maximum possible reward. On the other hand, if the eploration rate is too much high (i.e. large epsilon), it means due to discount factor the model pays more costs to explore actions. A alternative to epsilon greedy algorithm (i.e. fixed epsilon) can be decaying-epsilon-greedy algorithm which starts with an epsilon which slowly is been decayed overtime (down to a minimum epsilon value). The epsilon greedy algorithm continues to pay the price of exploration, and but this cost is decreasing for decaying-epsilon-greedy algorithm which may could help to converge to even higher rewards.**"
      ],
      "metadata": {
        "id": "S7Cc95jjW0po"
      }
    },
    {
      "cell_type": "code",
      "execution_count": null,
      "metadata": {
        "colab": {
          "base_uri": "https://localhost:8080/",
          "height": 609
        },
        "id": "O_VthKmgmF4p",
        "outputId": "3448166e-abff-44cc-8410-74a302af9324",
        "scrolled": true
      },
      "outputs": [
        {
          "name": "stdout",
          "output_type": "stream",
          "text": [
            "========= Test Q-learning on TestRLmaze =========\n",
            "[3 3 3 1 3 0 1 1 1 3 3 1 3 3 3 2 0]\n",
            "[3 3 1 1 1 0 1 1 1 1 3 1 3 3 3 1 3]\n",
            "[3 3 3 1 3 3 3 1 1 3 3 1 3 3 3 3 2]\n",
            "[3 3 1 1 3 3 1 1 1 3 3 1 3 3 3 0 3]\n",
            "========= Impact of esilon value =========\n",
            "==== epsilon : 0.05 ====\n",
            "--- trial : 0 ---\n",
            "--- trial : 50 ---\n",
            "==== epsilon : 0.1 ====\n",
            "--- trial : 0 ---\n",
            "--- trial : 50 ---\n",
            "==== epsilon : 0.3 ====\n",
            "--- trial : 0 ---\n",
            "--- trial : 50 ---\n",
            "==== epsilon : 0.5 ====\n",
            "--- trial : 0 ---\n",
            "--- trial : 50 ---\n",
            "================ Plot =================\n"
          ]
        },
        {
          "data": {
            "image/png": "[encoded data removed]",
            "text/plain": [
              "<Figure size 432x288 with 1 Axes>"
            ]
          },
          "metadata": {},
          "output_type": "display_data"
        }
      ],
      "source": [
        "%run -i 'TestRLmaze.py'"
      ]
    },
    {
      "cell_type": "markdown",
      "source": [
        "# **Part (III) - final results**\n"
      ],
      "metadata": {
        "id": "YyYjdBKgGMYf"
      }
    },
    {
      "cell_type": "markdown",
      "source": [
        "\n",
        "- *Modify the DQN code provided to produce a graph where the y-axis is the average cumulative reward of the last 25 episodes and the x-axis is the # of episodes up to 300 episodes. The graph should contain 4 curves corresponding to updating the target network every 1, 10 (default), 50, 100 episode(s). To reduce stochasticity in the results, report curves that are the average of 5 runs corresponding to 5 random seeds [1 point].* \n",
        "\n",
        "    **Answer: Refer to following cell**\n",
        "\n",
        "- *Based on the results, explain the impact of the target network and relate the target network to value iteration. [1 point]*\n",
        "    > **Answer: Based on the results in the next cell, the immediate observation is that larger values for TARGET_UPDATE_FREQ lead to faster convergence but to lower rewards. On the other hand, when TARGET_UPDATE_FREQ is too much samll (e.g. 1), the learning process is not very stable. This is evident for the blue-colored 68% interval of rewards corresponding TARGET_UPDATE_FREQ=1 which covers a realively wide range in compring to other TARGET_UPDATE_FREQ values.**\n",
        "\n",
        "    > **In a DQN, the target network acts similar to **\n"
      ],
      "metadata": {
        "id": "51BJUf2Ihpzl"
      }
    },
    {
      "cell_type": "code",
      "execution_count": 5,
      "metadata": {
        "id": "KALDnuM5QTtl",
        "colab": {
          "base_uri": "https://localhost:8080/",
          "height": 1000
        },
        "outputId": "e44f5b43-8184-4ccb-b8d1-fc63831f7974"
      },
      "outputs": [
        {
          "output_type": "stream",
          "name": "stdout",
          "text": [
            "======== Target network update freq.: 1=========\n",
            "Seed=1\n",
            "Training:\n"
          ]
        },
        {
          "output_type": "stream",
          "name": "stderr",
          "text": [
            "R25(176.68): 100%|██████████| 300/300 [00:14<00:00, 21.42it/s]\n"
          ]
        },
        {
          "output_type": "stream",
          "name": "stdout",
          "text": [
            "Training finished!\n",
            "Seed=2\n",
            "Training:\n"
          ]
        },
        {
          "output_type": "stream",
          "name": "stderr",
          "text": [
            "R25(67.64): 100%|██████████| 300/300 [00:08<00:00, 34.18it/s]\n"
          ]
        },
        {
          "output_type": "stream",
          "name": "stdout",
          "text": [
            "Training finished!\n",
            "Seed=3\n",
            "Training:\n"
          ]
        },
        {
          "output_type": "stream",
          "name": "stderr",
          "text": [
            "R25(116.96): 100%|██████████| 300/300 [00:12<00:00, 23.76it/s]\n"
          ]
        },
        {
          "output_type": "stream",
          "name": "stdout",
          "text": [
            "Training finished!\n",
            "Seed=4\n",
            "Training:\n"
          ]
        },
        {
          "output_type": "stream",
          "name": "stderr",
          "text": [
            "R25(193.2): 100%|██████████| 300/300 [00:16<00:00, 17.67it/s]\n"
          ]
        },
        {
          "output_type": "stream",
          "name": "stdout",
          "text": [
            "Training finished!\n",
            "Seed=5\n",
            "Training:\n"
          ]
        },
        {
          "output_type": "stream",
          "name": "stderr",
          "text": [
            "R25(43.48): 100%|██████████| 300/300 [00:07<00:00, 41.39it/s]\n"
          ]
        },
        {
          "output_type": "stream",
          "name": "stdout",
          "text": [
            "Training finished!\n",
            "======== Target network update freq.: 10=========\n",
            "Seed=1\n",
            "Training:\n"
          ]
        },
        {
          "output_type": "stream",
          "name": "stderr",
          "text": [
            "R25(186.8): 100%|██████████| 300/300 [00:16<00:00, 18.35it/s]\n"
          ]
        },
        {
          "output_type": "stream",
          "name": "stdout",
          "text": [
            "Training finished!\n",
            "Seed=2\n",
            "Training:\n"
          ]
        },
        {
          "output_type": "stream",
          "name": "stderr",
          "text": [
            "R25(183.6): 100%|██████████| 300/300 [00:17<00:00, 17.19it/s]\n"
          ]
        },
        {
          "output_type": "stream",
          "name": "stdout",
          "text": [
            "Training finished!\n",
            "Seed=3\n",
            "Training:\n"
          ]
        },
        {
          "output_type": "stream",
          "name": "stderr",
          "text": [
            "R25(177.48): 100%|██████████| 300/300 [00:19<00:00, 15.04it/s]\n"
          ]
        },
        {
          "output_type": "stream",
          "name": "stdout",
          "text": [
            "Training finished!\n",
            "Seed=4\n",
            "Training:\n"
          ]
        },
        {
          "output_type": "stream",
          "name": "stderr",
          "text": [
            "R25(166.32): 100%|██████████| 300/300 [00:20<00:00, 14.86it/s]\n"
          ]
        },
        {
          "output_type": "stream",
          "name": "stdout",
          "text": [
            "Training finished!\n",
            "Seed=5\n",
            "Training:\n"
          ]
        },
        {
          "output_type": "stream",
          "name": "stderr",
          "text": [
            "R25(160.6): 100%|██████████| 300/300 [00:17<00:00, 17.35it/s]\n"
          ]
        },
        {
          "output_type": "stream",
          "name": "stdout",
          "text": [
            "Training finished!\n",
            "======== Target network update freq.: 50=========\n",
            "Seed=1\n",
            "Training:\n"
          ]
        },
        {
          "output_type": "stream",
          "name": "stderr",
          "text": [
            "R25(104.8): 100%|██████████| 300/300 [00:10<00:00, 28.59it/s]\n"
          ]
        },
        {
          "output_type": "stream",
          "name": "stdout",
          "text": [
            "Training finished!\n",
            "Seed=2\n",
            "Training:\n"
          ]
        },
        {
          "output_type": "stream",
          "name": "stderr",
          "text": [
            "R25(100.36): 100%|██████████| 300/300 [00:09<00:00, 31.97it/s]\n"
          ]
        },
        {
          "output_type": "stream",
          "name": "stdout",
          "text": [
            "Training finished!\n",
            "Seed=3\n",
            "Training:\n"
          ]
        },
        {
          "output_type": "stream",
          "name": "stderr",
          "text": [
            "R25(84.32): 100%|██████████| 300/300 [00:07<00:00, 41.20it/s]\n"
          ]
        },
        {
          "output_type": "stream",
          "name": "stdout",
          "text": [
            "Training finished!\n",
            "Seed=4\n",
            "Training:\n"
          ]
        },
        {
          "output_type": "stream",
          "name": "stderr",
          "text": [
            "R25(148.96): 100%|██████████| 300/300 [00:08<00:00, 36.85it/s]\n"
          ]
        },
        {
          "output_type": "stream",
          "name": "stdout",
          "text": [
            "Training finished!\n",
            "Seed=5\n",
            "Training:\n"
          ]
        },
        {
          "output_type": "stream",
          "name": "stderr",
          "text": [
            "R25(114.72): 100%|██████████| 300/300 [00:10<00:00, 28.57it/s]\n"
          ]
        },
        {
          "output_type": "stream",
          "name": "stdout",
          "text": [
            "Training finished!\n",
            "======== Target network update freq.: 100=========\n",
            "Seed=1\n",
            "Training:\n"
          ]
        },
        {
          "output_type": "stream",
          "name": "stderr",
          "text": [
            "R25(9.92): 100%|██████████| 300/300 [00:05<00:00, 56.40it/s]\n"
          ]
        },
        {
          "output_type": "stream",
          "name": "stdout",
          "text": [
            "Training finished!\n",
            "Seed=2\n",
            "Training:\n"
          ]
        },
        {
          "output_type": "stream",
          "name": "stderr",
          "text": [
            "R25(22.52): 100%|██████████| 300/300 [00:04<00:00, 60.86it/s]\n"
          ]
        },
        {
          "output_type": "stream",
          "name": "stdout",
          "text": [
            "Training finished!\n",
            "Seed=3\n",
            "Training:\n"
          ]
        },
        {
          "output_type": "stream",
          "name": "stderr",
          "text": [
            "R25(11.04): 100%|██████████| 300/300 [00:04<00:00, 64.83it/s]\n"
          ]
        },
        {
          "output_type": "stream",
          "name": "stdout",
          "text": [
            "Training finished!\n",
            "Seed=4\n",
            "Training:\n"
          ]
        },
        {
          "output_type": "stream",
          "name": "stderr",
          "text": [
            "R25(10.96): 100%|██████████| 300/300 [00:04<00:00, 66.40it/s]\n"
          ]
        },
        {
          "output_type": "stream",
          "name": "stdout",
          "text": [
            "Training finished!\n",
            "Seed=5\n",
            "Training:\n"
          ]
        },
        {
          "output_type": "stream",
          "name": "stderr",
          "text": [
            "R25(10.36): 100%|██████████| 300/300 [00:04<00:00, 65.08it/s]\n"
          ]
        },
        {
          "output_type": "stream",
          "name": "stdout",
          "text": [
            "Training finished!\n"
          ]
        },
        {
          "output_type": "display_data",
          "data": {
            "image/png": "[encoded data removed]",
            "text/plain": [
              "<Figure size 432x288 with 1 Axes>"
            ]
          },
          "metadata": {
            "needs_background": "light"
          }
        }
      ],
      "source": [
        "import DQN\n",
        "import matplotlib.pyplot as plt\n",
        "\n",
        "\n",
        "# Train for different seeds\n",
        "TARGET_UPDATE_FREQ_list = [1,10,50,100]\n",
        "COLOR_list = ['b', 'g', 'r', 'c']\n",
        "MINIBATCH_SIZE = 10\n",
        "SEEDS = [1,2,3,4,5]\n",
        "for TARGET_UPDATE_FREQ, COLOR in zip(TARGET_UPDATE_FREQ_list, COLOR_list):\n",
        "    print(f\"======== Target network update freq.: {TARGET_UPDATE_FREQ} =========\")\n",
        "    curves = []\n",
        "    for seed in SEEDS:\n",
        "        curves += [DQN.train(seed, TARGET_UPDATE_FREQ, MINIBATCH_SIZE)]\n",
        "\n",
        "    # Plot the curve for the given seeds\n",
        "    DQN.plot_arrays(curves, COLOR, TARGET_UPDATE_FREQ)\n",
        "plt.legend(loc='best')\n",
        "plt.show()"
      ]
    },
    {
      "cell_type": "markdown",
      "source": [
        "- *Modify the DQN code provided to produce a graph where the y-axis is the average cumulative reward of the last 25 episodes and the x-axis is the # of episodes up to 300 episodes. The graph should contain 4 curves corresponding to sampling mini-batches of 1, 10 (default), 50 and 100 experience(s) from the replay buffer. To reduce stochasticity in the results, report curves that are the average of 5 runs corresponding to 5 random seeds. Based on the results, explain the impact of the replay buffer and relate the replay buffer to exact gradient descent. [1 point]*\n",
        "\n",
        "> **Answer: Based on the results in the next cell, the immediate observation is that larger values for MINIBATCH_SIZE lead to faster convergence with higher rewards but the computation time is also higher. The larger the experience replay (i.e. MINIBATCH_SIZE), the less likely we will sample correlated elements, hence the more stable the training of the NN will be. In other words, if we only use the very-most recent data, we will overfit to that and things will break; if we use too much experience, you may slow down your learning, and replay buffer might take a long time to \"become refreshed\" with good trajectories, when they finally start to be discovered.**\n",
        "\n",
        "> **In terms of gradient, if we simply calculate our loss using one experience rather than a mini-batch of experiences, the algorithm remains valid; however, the gradient estimate for the update step is based on a single record of [state, action, reward, future state]. This would be a high variance updating process, with many steps going in the wrong direction, but we should still observe a right gradient after many steps in the long-run. We would most likely need to reduce the learning rate to compensate for the huge variance per each sample.**"
      ],
      "metadata": {
        "id": "DY5DPFZDsdJV"
      }
    },
    {
      "cell_type": "code",
      "source": [
        "import DQN\n",
        "import matplotlib.pyplot as plt\n",
        "\n",
        "\n",
        "TARGET_UPDATE_FREQ = 10\n",
        "COLOR_list = ['b', 'g', 'r', 'c']\n",
        "# Train for different mini batch sizes\n",
        "MINIBATCH_SIZE_list = [1,10,50,100]\n",
        "# Train for different seeds\n",
        "SEEDS = [1,2,3,4,5]\n",
        "\n",
        "for MINIBATCH_SIZE, COLOR in zip(MINIBATCH_SIZE_list, COLOR_list):\n",
        "    print(f\"======== Mini batch Size: {MINIBATCH_SIZE} =========\")\n",
        "    curves = []\n",
        "    for seed in SEEDS:\n",
        "        curves += [DQN.train(seed, TARGET_UPDATE_FREQ, MINIBATCH_SIZE)]\n",
        "\n",
        "    # Plot the curve for the given seeds\n",
        "    DQN.plot_arrays(curves, COLOR, MINIBATCH_SIZE)\n",
        "plt.legend(loc='best')\n",
        "plt.show()"
      ],
      "metadata": {
        "colab": {
          "base_uri": "https://localhost:8080/",
          "height": 1000
        },
        "id": "l9j-LMuWxHFs",
        "outputId": "b528878b-e0c1-4257-9871-98e6c3ed127d"
      },
      "execution_count": 6,
      "outputs": [
        {
          "output_type": "stream",
          "name": "stdout",
          "text": [
            "======== Mini batch Size: 1 =========\n",
            "Seed=1\n",
            "Training:\n"
          ]
        },
        {
          "output_type": "stream",
          "name": "stderr",
          "text": [
            "R25(25.4): 100%|██████████| 300/300 [00:05<00:00, 50.85it/s]\n"
          ]
        },
        {
          "output_type": "stream",
          "name": "stdout",
          "text": [
            "Training finished!\n",
            "Seed=2\n",
            "Training:\n"
          ]
        },
        {
          "output_type": "stream",
          "name": "stderr",
          "text": [
            "R25(37.16): 100%|██████████| 300/300 [00:06<00:00, 45.14it/s]\n"
          ]
        },
        {
          "output_type": "stream",
          "name": "stdout",
          "text": [
            "Training finished!\n",
            "Seed=3\n",
            "Training:\n"
          ]
        },
        {
          "output_type": "stream",
          "name": "stderr",
          "text": [
            "R25(35.84): 100%|██████████| 300/300 [00:06<00:00, 49.53it/s]\n"
          ]
        },
        {
          "output_type": "stream",
          "name": "stdout",
          "text": [
            "Training finished!\n",
            "Seed=4\n",
            "Training:\n"
          ]
        },
        {
          "output_type": "stream",
          "name": "stderr",
          "text": [
            "R25(47.2): 100%|██████████| 300/300 [00:06<00:00, 46.08it/s]\n"
          ]
        },
        {
          "output_type": "stream",
          "name": "stdout",
          "text": [
            "Training finished!\n",
            "Seed=5\n",
            "Training:\n"
          ]
        },
        {
          "output_type": "stream",
          "name": "stderr",
          "text": [
            "R25(29.68): 100%|██████████| 300/300 [00:06<00:00, 49.76it/s]\n"
          ]
        },
        {
          "output_type": "stream",
          "name": "stdout",
          "text": [
            "Training finished!\n",
            "======== Mini batch Size: 10 =========\n",
            "Seed=1\n",
            "Training:\n"
          ]
        },
        {
          "output_type": "stream",
          "name": "stderr",
          "text": [
            "R25(186.8): 100%|██████████| 300/300 [00:16<00:00, 18.54it/s]\n"
          ]
        },
        {
          "output_type": "stream",
          "name": "stdout",
          "text": [
            "Training finished!\n",
            "Seed=2\n",
            "Training:\n"
          ]
        },
        {
          "output_type": "stream",
          "name": "stderr",
          "text": [
            "R25(183.6): 100%|██████████| 300/300 [00:17<00:00, 17.10it/s]\n"
          ]
        },
        {
          "output_type": "stream",
          "name": "stdout",
          "text": [
            "Training finished!\n",
            "Seed=3\n",
            "Training:\n"
          ]
        },
        {
          "output_type": "stream",
          "name": "stderr",
          "text": [
            "R25(177.48): 100%|██████████| 300/300 [00:19<00:00, 15.00it/s]\n"
          ]
        },
        {
          "output_type": "stream",
          "name": "stdout",
          "text": [
            "Training finished!\n",
            "Seed=4\n",
            "Training:\n"
          ]
        },
        {
          "output_type": "stream",
          "name": "stderr",
          "text": [
            "R25(166.32): 100%|██████████| 300/300 [00:20<00:00, 14.90it/s]\n"
          ]
        },
        {
          "output_type": "stream",
          "name": "stdout",
          "text": [
            "Training finished!\n",
            "Seed=5\n",
            "Training:\n"
          ]
        },
        {
          "output_type": "stream",
          "name": "stderr",
          "text": [
            "R25(160.6): 100%|██████████| 300/300 [00:17<00:00, 17.32it/s]\n"
          ]
        },
        {
          "output_type": "stream",
          "name": "stdout",
          "text": [
            "Training finished!\n",
            "======== Mini batch Size: 50 =========\n",
            "Seed=1\n",
            "Training:\n"
          ]
        },
        {
          "output_type": "stream",
          "name": "stderr",
          "text": [
            "R25(176.92): 100%|██████████| 300/300 [00:24<00:00, 12.10it/s]\n"
          ]
        },
        {
          "output_type": "stream",
          "name": "stdout",
          "text": [
            "Training finished!\n",
            "Seed=2\n",
            "Training:\n"
          ]
        },
        {
          "output_type": "stream",
          "name": "stderr",
          "text": [
            "R25(182.04): 100%|██████████| 300/300 [00:24<00:00, 12.31it/s]\n"
          ]
        },
        {
          "output_type": "stream",
          "name": "stdout",
          "text": [
            "Training finished!\n",
            "Seed=3\n",
            "Training:\n"
          ]
        },
        {
          "output_type": "stream",
          "name": "stderr",
          "text": [
            "R25(170.16): 100%|██████████| 300/300 [00:23<00:00, 12.62it/s]\n"
          ]
        },
        {
          "output_type": "stream",
          "name": "stdout",
          "text": [
            "Training finished!\n",
            "Seed=4\n",
            "Training:\n"
          ]
        },
        {
          "output_type": "stream",
          "name": "stderr",
          "text": [
            "R25(165.44): 100%|██████████| 300/300 [00:23<00:00, 12.73it/s]\n"
          ]
        },
        {
          "output_type": "stream",
          "name": "stdout",
          "text": [
            "Training finished!\n",
            "Seed=5\n",
            "Training:\n"
          ]
        },
        {
          "output_type": "stream",
          "name": "stderr",
          "text": [
            "R25(171.88): 100%|██████████| 300/300 [00:22<00:00, 13.11it/s]\n"
          ]
        },
        {
          "output_type": "stream",
          "name": "stdout",
          "text": [
            "Training finished!\n",
            "======== Mini batch Size: 100 =========\n",
            "Seed=1\n",
            "Training:\n"
          ]
        },
        {
          "output_type": "stream",
          "name": "stderr",
          "text": [
            "R25(177.2): 100%|██████████| 300/300 [00:25<00:00, 11.55it/s]\n"
          ]
        },
        {
          "output_type": "stream",
          "name": "stdout",
          "text": [
            "Training finished!\n",
            "Seed=2\n",
            "Training:\n"
          ]
        },
        {
          "output_type": "stream",
          "name": "stderr",
          "text": [
            "R25(168.4): 100%|██████████| 300/300 [00:26<00:00, 11.44it/s]\n"
          ]
        },
        {
          "output_type": "stream",
          "name": "stdout",
          "text": [
            "Training finished!\n",
            "Seed=3\n",
            "Training:\n"
          ]
        },
        {
          "output_type": "stream",
          "name": "stderr",
          "text": [
            "R25(186.24): 100%|██████████| 300/300 [00:25<00:00, 11.87it/s]\n"
          ]
        },
        {
          "output_type": "stream",
          "name": "stdout",
          "text": [
            "Training finished!\n",
            "Seed=4\n",
            "Training:\n"
          ]
        },
        {
          "output_type": "stream",
          "name": "stderr",
          "text": [
            "R25(188.56): 100%|██████████| 300/300 [00:26<00:00, 11.15it/s]\n"
          ]
        },
        {
          "output_type": "stream",
          "name": "stdout",
          "text": [
            "Training finished!\n",
            "Seed=5\n",
            "Training:\n"
          ]
        },
        {
          "output_type": "stream",
          "name": "stderr",
          "text": [
            "R25(196.76): 100%|██████████| 300/300 [00:24<00:00, 12.01it/s]\n"
          ]
        },
        {
          "output_type": "stream",
          "name": "stdout",
          "text": [
            "Training finished!\n"
          ]
        },
        {
          "output_type": "display_data",
          "data": {
            "image/png": "[encoded data removed]",
            "text/plain": [
              "<Figure size 432x288 with 1 Axes>"
            ]
          },
          "metadata": {
            "needs_background": "light"
          }
        }
      ]
    },
    {
      "cell_type": "code",
      "source": [
        ""
      ],
      "metadata": {
        "id": "F6SqM_PcxyHW"
      },
      "execution_count": null,
      "outputs": []
    }
  ],
  "metadata": {
    "colab": {
      "collapsed_sections": [
        "B73FGE0xvlJu"
      ],
      "name": "A1_FinalResults.ipynb",
      "provenance": [],
      "machine_shape": "hm",
      "include_colab_link": true
    },
    "kernelspec": {
      "display_name": "rl",
      "language": "python",
      "name": "rl"
    },
    "language_info": {
      "codemirror_mode": {
        "name": "ipython",
        "version": 3
      },
      "file_extension": ".py",
      "mimetype": "text/x-python",
      "name": "python",
      "nbconvert_exporter": "python",
      "pygments_lexer": "ipython3",
      "version": "3.6.13"
    },
    "accelerator": "GPU"
  },
  "nbformat": 4,
  "nbformat_minor": 0
}